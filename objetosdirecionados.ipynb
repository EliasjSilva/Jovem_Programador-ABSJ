{
  "cells": [
    {
      "cell_type": "code",
      "source": [
        "class Livro:\n",
        "\n",
        "  def __init__(self):\n",
        "    # Atributos são propriedades.\n",
        "    self.titulo = 'O Código da Riqueza'\n",
        "    self.isbn = 9877348573\n",
        "    print('Construtor para criar um livro')\n",
        "\n",
        "    # Métodos são ações\n",
        "  def imprime(self):\n",
        "    print(f'Foi criado o livro {self.titulo} com isbn {self.isbn}')\n",
        "\n",
        "# # #\n",
        "livro1 =Livro()\n",
        "\n",
        "print(type(livro1))\n",
        "\n",
        "livro1.titulo\n",
        "livro1.imprime()"
      ],
      "metadata": {
        "id": "PkRoJxLvGsZc",
        "outputId": "2199129f-b303-4bf6-8619-7ce50ad5d27d",
        "colab": {
          "base_uri": "https://localhost:8080/"
        }
      },
      "execution_count": 41,
      "outputs": [
        {
          "output_type": "stream",
          "name": "stdout",
          "text": [
            "Construtor para criar um livro\n",
            "<class '__main__.Livro'>\n",
            "Foi criado o livro O Código da Riqueza com isbn 9877348573\n"
          ]
        }
      ]
    },
    {
      "cell_type": "code",
      "source": [
        "class Estudante:\n",
        "\n",
        "  def __init__(self, nome, idade ,nota):\n",
        "    self.nome = nome\n",
        "    self.idade = idade\n",
        "    self.nota = nota\n",
        "\n",
        "    def permissao(self):\n",
        "        if self.nota  < 9.5:\n",
        "            print(f'{self.nome} não pode participar do Clube dos Gênios, porque a nota dela foi de {self.nota}')\n",
        "\n",
        "# # #\n",
        "estudante2 = Estudante('Bruna', 35, 9.0)\n",
        "\n",
        "estudante2.nota\n",
        "estudante2.idade\n",
        "estudante2.nome\n",
        "estudante2.permissao()"
      ],
      "metadata": {
        "id": "bCKPk8DYIiNN",
        "outputId": "19cb651c-588d-49f9-e7ba-6deb44940d2b",
        "colab": {
          "base_uri": "https://localhost:8080/",
          "height": 210
        }
      },
      "execution_count": 45,
      "outputs": [
        {
          "output_type": "error",
          "ename": "AttributeError",
          "evalue": "ignored",
          "traceback": [
            "\u001b[0;31m---------------------------------------------------------------------------\u001b[0m",
            "\u001b[0;31mAttributeError\u001b[0m                            Traceback (most recent call last)",
            "\u001b[0;32m<ipython-input-45-921652f4bec3>\u001b[0m in \u001b[0;36m<cell line: 17>\u001b[0;34m()\u001b[0m\n\u001b[1;32m     15\u001b[0m \u001b[0mestudante2\u001b[0m\u001b[0;34m.\u001b[0m\u001b[0midade\u001b[0m\u001b[0;34m\u001b[0m\u001b[0;34m\u001b[0m\u001b[0m\n\u001b[1;32m     16\u001b[0m \u001b[0mestudante2\u001b[0m\u001b[0;34m.\u001b[0m\u001b[0mnome\u001b[0m\u001b[0;34m\u001b[0m\u001b[0;34m\u001b[0m\u001b[0m\n\u001b[0;32m---> 17\u001b[0;31m \u001b[0mestudante2\u001b[0m\u001b[0;34m.\u001b[0m\u001b[0mpermissao\u001b[0m\u001b[0;34m(\u001b[0m\u001b[0;34m)\u001b[0m\u001b[0;34m\u001b[0m\u001b[0;34m\u001b[0m\u001b[0m\n\u001b[0m",
            "\u001b[0;31mAttributeError\u001b[0m: 'Estudante' object has no attribute 'permissao'"
          ]
        }
      ]
    },
    {
      "cell_type": "code",
      "source": [
        "class Pessoa:\n",
        "    def __init__(self, nome, idade, genero):\n",
        "        self.nome = nome\n",
        "        self.genero = genero\n",
        "        self.idade = idade\n",
        "\n",
        "# # #\n",
        "Juliana = Pessoa('Juliana', 'Feminino', 22)\n",
        "print(f'{Juliana.nome}, {Juliana.genero}, {Juliana.idade}')"
      ],
      "metadata": {
        "id": "S0dp6RUkMNnd",
        "outputId": "25a84325-2ed7-4626-d007-23e94df6150a",
        "colab": {
          "base_uri": "https://localhost:8080/"
        }
      },
      "execution_count": 40,
      "outputs": [
        {
          "output_type": "stream",
          "name": "stdout",
          "text": [
            "Juliana, 22, Feminino\n"
          ]
        }
      ]
    },
    {
      "cell_type": "code",
      "source": [
        "class Funcionario:\n",
        "    def __init__(self, nome, cargo, salario, meses_trabalhados):\n",
        "        self.nome = nome\n",
        "        self.cargo = cargo\n",
        "        self.salario = salario\n",
        "        self.meses_trabalhados = meses_trabalhados\n",
        "\n",
        "    def informacoes(self):\n",
        "        print(f'{self.nome} que trabalha no cargo de {self.cargo} deverá receber R$ {(self.salario * self.meses_trabalhados): .2f} como pagamento de décimo salário.')\n",
        "\n",
        "alex = Funcionario('Alex', 'Desenvolvedor', 3.400, 11)\n",
        "\n",
        "# alex.nome\n",
        "# alex.cargo\n",
        "# alex.salario\n",
        "# alex.meses_trabalhados\n",
        "alex.informacoes()\n",
        "# print(alex.informacoes)"
      ],
      "metadata": {
        "id": "0z4EhlvpMjyF",
        "outputId": "66437c6d-ce64-4b5a-c7e0-c8f005358989",
        "colab": {
          "base_uri": "https://localhost:8080/"
        }
      },
      "execution_count": 70,
      "outputs": [
        {
          "output_type": "stream",
          "name": "stdout",
          "text": [
            "Alex que trabalha no cargo de Desenvolvedor deverá receber R$  37.40 como pagamento de décimo salário.\n"
          ]
        }
      ]
    }
  ],
  "metadata": {
    "colab": {
      "name": "Olá, este é o Colaboratory",
      "provenance": []
    },
    "kernelspec": {
      "display_name": "Python 3",
      "name": "python3"
    }
  },
  "nbformat": 4,
  "nbformat_minor": 0
}